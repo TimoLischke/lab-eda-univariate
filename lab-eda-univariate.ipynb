{
 "cells": [
  {
   "cell_type": "code",
   "execution_count": 2,
   "id": "54ee349f-cc66-4c75-b726-0871ddef6541",
   "metadata": {},
   "outputs": [],
   "source": [
    "import pandas as pd\n",
    "import matplotlib.pyplot as plt\n",
    "import seaborn as sns\n",
    "import numpy as np\n",
    "from sqlalchemy import text\n",
    "\n",
    "%matplotlib inline"
   ]
  },
  {
   "cell_type": "code",
   "execution_count": 6,
   "id": "1bbaad5c-3199-4b1a-b01a-b29cfb8d5934",
   "metadata": {},
   "outputs": [
    {
     "data": {
      "text/html": [
       "<div>\n",
       "<style scoped>\n",
       "    .dataframe tbody tr th:only-of-type {\n",
       "        vertical-align: middle;\n",
       "    }\n",
       "\n",
       "    .dataframe tbody tr th {\n",
       "        vertical-align: top;\n",
       "    }\n",
       "\n",
       "    .dataframe thead th {\n",
       "        text-align: right;\n",
       "    }\n",
       "</style>\n",
       "<table border=\"1\" class=\"dataframe\">\n",
       "  <thead>\n",
       "    <tr style=\"text-align: right;\">\n",
       "      <th></th>\n",
       "      <th>uid</th>\n",
       "      <th>asin</th>\n",
       "      <th>title</th>\n",
       "      <th>stars</th>\n",
       "      <th>reviews</th>\n",
       "      <th>price</th>\n",
       "      <th>isBestSeller</th>\n",
       "      <th>boughtInLastMonth</th>\n",
       "      <th>category</th>\n",
       "    </tr>\n",
       "  </thead>\n",
       "  <tbody>\n",
       "    <tr>\n",
       "      <th>0</th>\n",
       "      <td>1</td>\n",
       "      <td>B09B96TG33</td>\n",
       "      <td>Echo Dot (5th generation, 2022 release) | Big ...</td>\n",
       "      <td>4.7</td>\n",
       "      <td>15308</td>\n",
       "      <td>21.99</td>\n",
       "      <td>False</td>\n",
       "      <td>0</td>\n",
       "      <td>Hi-Fi Speakers</td>\n",
       "    </tr>\n",
       "    <tr>\n",
       "      <th>1</th>\n",
       "      <td>2</td>\n",
       "      <td>B01HTH3C8S</td>\n",
       "      <td>Anker Soundcore mini, Super-Portable Bluetooth...</td>\n",
       "      <td>4.7</td>\n",
       "      <td>98099</td>\n",
       "      <td>23.99</td>\n",
       "      <td>True</td>\n",
       "      <td>0</td>\n",
       "      <td>Hi-Fi Speakers</td>\n",
       "    </tr>\n",
       "    <tr>\n",
       "      <th>2</th>\n",
       "      <td>3</td>\n",
       "      <td>B09B8YWXDF</td>\n",
       "      <td>Echo Dot (5th generation, 2022 release) | Big ...</td>\n",
       "      <td>4.7</td>\n",
       "      <td>15308</td>\n",
       "      <td>21.99</td>\n",
       "      <td>False</td>\n",
       "      <td>0</td>\n",
       "      <td>Hi-Fi Speakers</td>\n",
       "    </tr>\n",
       "    <tr>\n",
       "      <th>3</th>\n",
       "      <td>4</td>\n",
       "      <td>B09B8T5VGV</td>\n",
       "      <td>Echo Dot with clock (5th generation, 2022 rele...</td>\n",
       "      <td>4.7</td>\n",
       "      <td>7205</td>\n",
       "      <td>31.99</td>\n",
       "      <td>False</td>\n",
       "      <td>0</td>\n",
       "      <td>Hi-Fi Speakers</td>\n",
       "    </tr>\n",
       "    <tr>\n",
       "      <th>4</th>\n",
       "      <td>5</td>\n",
       "      <td>B09WX6QD65</td>\n",
       "      <td>Introducing Echo Pop | Full sound compact Wi-F...</td>\n",
       "      <td>4.6</td>\n",
       "      <td>1881</td>\n",
       "      <td>17.99</td>\n",
       "      <td>False</td>\n",
       "      <td>0</td>\n",
       "      <td>Hi-Fi Speakers</td>\n",
       "    </tr>\n",
       "    <tr>\n",
       "      <th>...</th>\n",
       "      <td>...</td>\n",
       "      <td>...</td>\n",
       "      <td>...</td>\n",
       "      <td>...</td>\n",
       "      <td>...</td>\n",
       "      <td>...</td>\n",
       "      <td>...</td>\n",
       "      <td>...</td>\n",
       "      <td>...</td>\n",
       "    </tr>\n",
       "    <tr>\n",
       "      <th>2443646</th>\n",
       "      <td>2828589</td>\n",
       "      <td>B0CHSD7P2Q</td>\n",
       "      <td>Motorbike Armour, Motorbike Clothing, Cycling ...</td>\n",
       "      <td>0.0</td>\n",
       "      <td>0</td>\n",
       "      <td>22.34</td>\n",
       "      <td>False</td>\n",
       "      <td>0</td>\n",
       "      <td>Motorbike Clothing</td>\n",
       "    </tr>\n",
       "    <tr>\n",
       "      <th>2443647</th>\n",
       "      <td>2828590</td>\n",
       "      <td>B0B7B8FNBQ</td>\n",
       "      <td>PROFIRST Waterproof Motorcycle 2 Piece Ladies ...</td>\n",
       "      <td>0.0</td>\n",
       "      <td>0</td>\n",
       "      <td>97.99</td>\n",
       "      <td>False</td>\n",
       "      <td>0</td>\n",
       "      <td>Motorbike Clothing</td>\n",
       "    </tr>\n",
       "    <tr>\n",
       "      <th>2443648</th>\n",
       "      <td>2828591</td>\n",
       "      <td>B0BD5FL5FB</td>\n",
       "      <td>Men’s Motorcycle Motorbike Biker Trousers Kevl...</td>\n",
       "      <td>0.0</td>\n",
       "      <td>0</td>\n",
       "      <td>52.99</td>\n",
       "      <td>False</td>\n",
       "      <td>0</td>\n",
       "      <td>Motorbike Clothing</td>\n",
       "    </tr>\n",
       "    <tr>\n",
       "      <th>2443649</th>\n",
       "      <td>2828592</td>\n",
       "      <td>B008OYLL4I</td>\n",
       "      <td>Texpeed Mens Motorcycle Motorbike Biker Trouse...</td>\n",
       "      <td>4.3</td>\n",
       "      <td>404</td>\n",
       "      <td>79.99</td>\n",
       "      <td>False</td>\n",
       "      <td>0</td>\n",
       "      <td>Motorbike Clothing</td>\n",
       "    </tr>\n",
       "    <tr>\n",
       "      <th>2443650</th>\n",
       "      <td>2828593</td>\n",
       "      <td>B08P3W9B3T</td>\n",
       "      <td>RIDEX CJ223 Motorcycle Motorbike Jacket Armour...</td>\n",
       "      <td>4.5</td>\n",
       "      <td>34</td>\n",
       "      <td>53.99</td>\n",
       "      <td>False</td>\n",
       "      <td>0</td>\n",
       "      <td>Motorbike Clothing</td>\n",
       "    </tr>\n",
       "  </tbody>\n",
       "</table>\n",
       "<p>2443651 rows × 9 columns</p>\n",
       "</div>"
      ],
      "text/plain": [
       "             uid        asin  \\\n",
       "0              1  B09B96TG33   \n",
       "1              2  B01HTH3C8S   \n",
       "2              3  B09B8YWXDF   \n",
       "3              4  B09B8T5VGV   \n",
       "4              5  B09WX6QD65   \n",
       "...          ...         ...   \n",
       "2443646  2828589  B0CHSD7P2Q   \n",
       "2443647  2828590  B0B7B8FNBQ   \n",
       "2443648  2828591  B0BD5FL5FB   \n",
       "2443649  2828592  B008OYLL4I   \n",
       "2443650  2828593  B08P3W9B3T   \n",
       "\n",
       "                                                     title  stars  reviews  \\\n",
       "0        Echo Dot (5th generation, 2022 release) | Big ...    4.7    15308   \n",
       "1        Anker Soundcore mini, Super-Portable Bluetooth...    4.7    98099   \n",
       "2        Echo Dot (5th generation, 2022 release) | Big ...    4.7    15308   \n",
       "3        Echo Dot with clock (5th generation, 2022 rele...    4.7     7205   \n",
       "4        Introducing Echo Pop | Full sound compact Wi-F...    4.6     1881   \n",
       "...                                                    ...    ...      ...   \n",
       "2443646  Motorbike Armour, Motorbike Clothing, Cycling ...    0.0        0   \n",
       "2443647  PROFIRST Waterproof Motorcycle 2 Piece Ladies ...    0.0        0   \n",
       "2443648  Men’s Motorcycle Motorbike Biker Trousers Kevl...    0.0        0   \n",
       "2443649  Texpeed Mens Motorcycle Motorbike Biker Trouse...    4.3      404   \n",
       "2443650  RIDEX CJ223 Motorcycle Motorbike Jacket Armour...    4.5       34   \n",
       "\n",
       "         price  isBestSeller  boughtInLastMonth            category  \n",
       "0        21.99         False                  0      Hi-Fi Speakers  \n",
       "1        23.99          True                  0      Hi-Fi Speakers  \n",
       "2        21.99         False                  0      Hi-Fi Speakers  \n",
       "3        31.99         False                  0      Hi-Fi Speakers  \n",
       "4        17.99         False                  0      Hi-Fi Speakers  \n",
       "...        ...           ...                ...                 ...  \n",
       "2443646  22.34         False                  0  Motorbike Clothing  \n",
       "2443647  97.99         False                  0  Motorbike Clothing  \n",
       "2443648  52.99         False                  0  Motorbike Clothing  \n",
       "2443649  79.99         False                  0  Motorbike Clothing  \n",
       "2443650  53.99         False                  0  Motorbike Clothing  \n",
       "\n",
       "[2443651 rows x 9 columns]"
      ]
     },
     "execution_count": 6,
     "metadata": {},
     "output_type": "execute_result"
    }
   ],
   "source": [
    "url = r\"C:\\Users\\admin\\Documents\\Ironhack\\Week05\\amz_uk_price_prediction_dataset.csv\"\n",
    "df = pd.read_csv(url)\n",
    "df"
   ]
  },
  {
   "cell_type": "code",
   "execution_count": 8,
   "id": "bbfd3942-74c5-41a4-9d55-fa8e880d9c70",
   "metadata": {},
   "outputs": [
    {
     "data": {
      "text/plain": [
       "uid                    int64\n",
       "asin                  object\n",
       "title                 object\n",
       "stars                float64\n",
       "reviews                int64\n",
       "price                float64\n",
       "isBestSeller            bool\n",
       "boughtInLastMonth      int64\n",
       "category              object\n",
       "dtype: object"
      ]
     },
     "execution_count": 8,
     "metadata": {},
     "output_type": "execute_result"
    }
   ],
   "source": [
    "df.dtypes"
   ]
  },
  {
   "cell_type": "code",
   "execution_count": 12,
   "id": "b2bbe9af-5703-4ad3-bd49-ddc755836c17",
   "metadata": {},
   "outputs": [
    {
     "data": {
      "text/plain": [
       "category\n",
       "Sports & Outdoors                         836265\n",
       "Beauty                                     19312\n",
       "Handmade Clothing, Shoes & Accessories     19229\n",
       "Bath & Body                                19092\n",
       "Birthday Gifts                             18978\n",
       "                                           ...  \n",
       "Alexa Built-In Devices                       107\n",
       "Motorbike Chassis                            107\n",
       "Plugs                                        107\n",
       "Smart Home Security & Lighting               104\n",
       "Smart Speakers                                54\n",
       "Name: count, Length: 296, dtype: int64"
      ]
     },
     "execution_count": 12,
     "metadata": {},
     "output_type": "execute_result"
    }
   ],
   "source": [
    "# Part 1: Understanding Product Categories\n",
    "# Business Question: What are the most popular product categories on Amazon UK, and how do they compare in terms of listing frequency?\n",
    "# Frequency Tables: Generate a frequency table for the product `category`.\n",
    "# Which are the top 5 most listed product categories?\n",
    "category_frequency = df['category'].value_counts()\n",
    "category_frequency"
   ]
  },
  {
   "cell_type": "code",
   "execution_count": 14,
   "id": "96dec488-709b-4f6c-aafd-7fc4112c339c",
   "metadata": {},
   "outputs": [
    {
     "name": "stdout",
     "output_type": "stream",
     "text": [
      "the top 5 most listed product categories on Amazon UK are: category\n",
      "Sports & Outdoors                         836265\n",
      "Beauty                                     19312\n",
      "Handmade Clothing, Shoes & Accessories     19229\n",
      "Bath & Body                                19092\n",
      "Birthday Gifts                             18978\n",
      "Name: count, dtype: int64.\n"
     ]
    }
   ],
   "source": [
    "print(f\"the top 5 most listed product categories on Amazon UK are: {category_frequency.head()}.\")"
   ]
  },
  {
   "cell_type": "code",
   "execution_count": 18,
   "id": "5e89d659-6f11-45bc-b753-52d7dbdb0794",
   "metadata": {},
   "outputs": [
    {
     "name": "stderr",
     "output_type": "stream",
     "text": [
      "C:\\Users\\admin\\AppData\\Local\\Temp\\ipykernel_1540\\3428826081.py:12: FutureWarning: \n",
      "\n",
      "Passing `palette` without assigning `hue` is deprecated and will be removed in v0.14.0. Assign the `x` variable to `hue` and set `legend=False` for the same effect.\n",
      "\n",
      "  sns.barplot(x=category_frequency_top.index, y=category_frequency_top.values, palette=\"Set3\")\n"
     ]
    },
    {
     "data": {
      "image/png": "[encoded data removed]",
      "text/plain": [
       "<Figure size 1200x600 with 1 Axes>"
      ]
     },
     "metadata": {},
     "output_type": "display_data"
    }
   ],
   "source": [
    "# Visualizations:\n",
    "# Display the distribution of products across different categories using a bar chart. \n",
    "# If you face problems understanding the chart, do it for a subset of top categories.\n",
    "\n",
    "# Select top 10 categories\n",
    "top_n = 10\n",
    "category_frequency_top = category_frequency[:top_n]\n",
    "\n",
    "# Create the bar chart\n",
    "plt.figure(figsize=(12, 6))\n",
    "sns.barplot(x=category_frequency_top.index, y=category_frequency_top.values, palette=\"Set3\")\n",
    "\n",
    "# Rotate x-axis labels for better readability\n",
    "plt.xticks(rotation=45)\n",
    "\n",
    "# Show the plot\n",
    "plt.show()"
   ]
  },
  {
   "cell_type": "code",
   "execution_count": 26,
   "id": "8b525aa3-de43-4f42-8978-38efc5fb6237",
   "metadata": {},
   "outputs": [
    {
     "data": {
      "image/png": "[encoded data removed]",
      "text/plain": [
       "<Figure size 640x480 with 1 Axes>"
      ]
     },
     "metadata": {},
     "output_type": "display_data"
    }
   ],
   "source": [
    "# For a subset of top categories, visualize their proportions using a pie chart. \n",
    "# Does any category dominate the listings? --> \"Yes, sports & outdoors does!\"\n",
    "category_frequency_top.plot.pie(autopct='%1.1f%%', startangle=90, colors=sns.color_palette(\"Set3\"))\n",
    "plt.show()"
   ]
  },
  {
   "cell_type": "code",
   "execution_count": 28,
   "id": "ba86a463-30f7-456b-8fe2-25a2130c7e01",
   "metadata": {},
   "outputs": [
    {
     "data": {
      "text/html": [
       "<div>\n",
       "<style scoped>\n",
       "    .dataframe tbody tr th:only-of-type {\n",
       "        vertical-align: middle;\n",
       "    }\n",
       "\n",
       "    .dataframe tbody tr th {\n",
       "        vertical-align: top;\n",
       "    }\n",
       "\n",
       "    .dataframe thead th {\n",
       "        text-align: right;\n",
       "    }\n",
       "</style>\n",
       "<table border=\"1\" class=\"dataframe\">\n",
       "  <thead>\n",
       "    <tr style=\"text-align: right;\">\n",
       "      <th></th>\n",
       "      <th>uid</th>\n",
       "      <th>stars</th>\n",
       "      <th>reviews</th>\n",
       "      <th>price</th>\n",
       "      <th>boughtInLastMonth</th>\n",
       "    </tr>\n",
       "  </thead>\n",
       "  <tbody>\n",
       "    <tr>\n",
       "      <th>count</th>\n",
       "      <td>2.443651e+06</td>\n",
       "      <td>2.443651e+06</td>\n",
       "      <td>2.443651e+06</td>\n",
       "      <td>2.443651e+06</td>\n",
       "      <td>2.443651e+06</td>\n",
       "    </tr>\n",
       "    <tr>\n",
       "      <th>mean</th>\n",
       "      <td>1.370545e+06</td>\n",
       "      <td>2.152836e+00</td>\n",
       "      <td>4.806278e+02</td>\n",
       "      <td>8.924381e+01</td>\n",
       "      <td>2.589699e+01</td>\n",
       "    </tr>\n",
       "    <tr>\n",
       "      <th>std</th>\n",
       "      <td>8.160562e+05</td>\n",
       "      <td>2.194865e+00</td>\n",
       "      <td>5.944124e+03</td>\n",
       "      <td>3.456089e+02</td>\n",
       "      <td>2.404837e+02</td>\n",
       "    </tr>\n",
       "    <tr>\n",
       "      <th>min</th>\n",
       "      <td>1.000000e+00</td>\n",
       "      <td>0.000000e+00</td>\n",
       "      <td>0.000000e+00</td>\n",
       "      <td>0.000000e+00</td>\n",
       "      <td>0.000000e+00</td>\n",
       "    </tr>\n",
       "    <tr>\n",
       "      <th>25%</th>\n",
       "      <td>6.589215e+05</td>\n",
       "      <td>0.000000e+00</td>\n",
       "      <td>0.000000e+00</td>\n",
       "      <td>9.990000e+00</td>\n",
       "      <td>0.000000e+00</td>\n",
       "    </tr>\n",
       "    <tr>\n",
       "      <th>50%</th>\n",
       "      <td>1.349029e+06</td>\n",
       "      <td>0.000000e+00</td>\n",
       "      <td>0.000000e+00</td>\n",
       "      <td>1.909000e+01</td>\n",
       "      <td>0.000000e+00</td>\n",
       "    </tr>\n",
       "    <tr>\n",
       "      <th>75%</th>\n",
       "      <td>2.060686e+06</td>\n",
       "      <td>4.400000e+00</td>\n",
       "      <td>5.900000e+01</td>\n",
       "      <td>4.599000e+01</td>\n",
       "      <td>0.000000e+00</td>\n",
       "    </tr>\n",
       "    <tr>\n",
       "      <th>max</th>\n",
       "      <td>2.828593e+06</td>\n",
       "      <td>5.000000e+00</td>\n",
       "      <td>1.356658e+06</td>\n",
       "      <td>1.000000e+05</td>\n",
       "      <td>5.000000e+04</td>\n",
       "    </tr>\n",
       "  </tbody>\n",
       "</table>\n",
       "</div>"
      ],
      "text/plain": [
       "                uid         stars       reviews         price  \\\n",
       "count  2.443651e+06  2.443651e+06  2.443651e+06  2.443651e+06   \n",
       "mean   1.370545e+06  2.152836e+00  4.806278e+02  8.924381e+01   \n",
       "std    8.160562e+05  2.194865e+00  5.944124e+03  3.456089e+02   \n",
       "min    1.000000e+00  0.000000e+00  0.000000e+00  0.000000e+00   \n",
       "25%    6.589215e+05  0.000000e+00  0.000000e+00  9.990000e+00   \n",
       "50%    1.349029e+06  0.000000e+00  0.000000e+00  1.909000e+01   \n",
       "75%    2.060686e+06  4.400000e+00  5.900000e+01  4.599000e+01   \n",
       "max    2.828593e+06  5.000000e+00  1.356658e+06  1.000000e+05   \n",
       "\n",
       "       boughtInLastMonth  \n",
       "count       2.443651e+06  \n",
       "mean        2.589699e+01  \n",
       "std         2.404837e+02  \n",
       "min         0.000000e+00  \n",
       "25%         0.000000e+00  \n",
       "50%         0.000000e+00  \n",
       "75%         0.000000e+00  \n",
       "max         5.000000e+04  "
      ]
     },
     "execution_count": 28,
     "metadata": {},
     "output_type": "execute_result"
    }
   ],
   "source": [
    "# Part 2: Delving into Product Pricing\n",
    "# Business Question: How are products priced on Amazon UK, and are there specific price points or ranges that are more common?\n",
    "# 1. Measures of Centrality: Calculate the mean, median, and mode for the `price` of products.\n",
    "# What's the average price point of products listed? How does this compare with the most common price point (mode)?\n",
    "df.describe()"
   ]
  },
  {
   "cell_type": "code",
   "execution_count": 30,
   "id": "72f5af63-aa3b-4d4e-aa00-fa0b0f5eed99",
   "metadata": {},
   "outputs": [
    {
     "data": {
      "text/plain": [
       "89.24380943923663"
      ]
     },
     "execution_count": 30,
     "metadata": {},
     "output_type": "execute_result"
    }
   ],
   "source": [
    "df[\"price\"].mean()"
   ]
  },
  {
   "cell_type": "code",
   "execution_count": 32,
   "id": "b159a409-97d6-4f4a-bc51-771756e134c1",
   "metadata": {},
   "outputs": [
    {
     "data": {
      "text/plain": [
       "19.09"
      ]
     },
     "execution_count": 32,
     "metadata": {},
     "output_type": "execute_result"
    }
   ],
   "source": [
    "df[\"price\"].median()"
   ]
  },
  {
   "cell_type": "code",
   "execution_count": 34,
   "id": "6f2a1277-a86a-4990-ae3c-a466febc7ee7",
   "metadata": {},
   "outputs": [
    {
     "data": {
      "text/plain": [
       "0    9.99\n",
       "Name: price, dtype: float64"
      ]
     },
     "execution_count": 34,
     "metadata": {},
     "output_type": "execute_result"
    }
   ],
   "source": [
    "df[\"price\"].mode()"
   ]
  },
  {
   "cell_type": "code",
   "execution_count": 36,
   "id": "d7ef9a74-f470-4000-b529-0df907a46fb3",
   "metadata": {},
   "outputs": [],
   "source": [
    "# The most common price (mode = 9.99) is much lower than the average price (mean = 89.24)."
   ]
  },
  {
   "cell_type": "code",
   "execution_count": 38,
   "id": "88a31d09-4fb8-4e41-a68a-42e988a5baec",
   "metadata": {},
   "outputs": [
    {
     "data": {
      "text/plain": [
       "119445.48532256528"
      ]
     },
     "execution_count": 38,
     "metadata": {},
     "output_type": "execute_result"
    }
   ],
   "source": [
    "# 2. Measures of Dispersion:\n",
    "# Determine the variance, standard deviation, range, and interquartile range for product `price`.\n",
    "# How varied are the product prices? Are there any indicators of a significant spread in prices?\n",
    "df[\"price\"].var()"
   ]
  },
  {
   "cell_type": "code",
   "execution_count": 40,
   "id": "2dce1417-eb8c-4dbb-a403-22455bb671e5",
   "metadata": {},
   "outputs": [
    {
     "data": {
      "text/plain": [
       "345.60886175352226"
      ]
     },
     "execution_count": 40,
     "metadata": {},
     "output_type": "execute_result"
    }
   ],
   "source": [
    "df[\"price\"].std()"
   ]
  },
  {
   "cell_type": "code",
   "execution_count": 44,
   "id": "417005c1-4d6e-4850-aba1-84d36f995281",
   "metadata": {},
   "outputs": [
    {
     "data": {
      "text/plain": [
       "100000.0"
      ]
     },
     "execution_count": 44,
     "metadata": {},
     "output_type": "execute_result"
    }
   ],
   "source": [
    "price_range = df[\"price\"].max() - df[\"price\"].min()\n",
    "price_range"
   ]
  },
  {
   "cell_type": "code",
   "execution_count": 46,
   "id": "855001ee-5432-4ebc-9bfe-a4597f05b175",
   "metadata": {},
   "outputs": [
    {
     "data": {
      "text/plain": [
       "0.25     9.99\n",
       "0.50    19.09\n",
       "0.75    45.99\n",
       "Name: price, dtype: float64"
      ]
     },
     "execution_count": 46,
     "metadata": {},
     "output_type": "execute_result"
    }
   ],
   "source": [
    "quantiles_price = df[\"price\"].quantile([0.25, 0.5, 0.75])\n",
    "quantiles_price"
   ]
  },
  {
   "cell_type": "code",
   "execution_count": 48,
   "id": "ee2bea01-dda5-4786-8586-1fa5a3de386c",
   "metadata": {},
   "outputs": [],
   "source": [
    "# The first price quantile spans from 0 - 9.99, while the second spans from 10.00 until 19.09.\n",
    "# The third quantile spreads until 45.99, while the highest price is 100000. \n",
    "# The prices are not evently distributed, but instead positively skewed!"
   ]
  },
  {
   "cell_type": "code",
   "execution_count": 56,
   "id": "cf2904b4-7fa5-432e-bdc1-19ff0c3cb113",
   "metadata": {},
   "outputs": [
    {
     "data": {
      "image/png": "[encoded data removed]",
      "text/plain": [
       "<Figure size 640x480 with 1 Axes>"
      ]
     },
     "metadata": {},
     "output_type": "display_data"
    }
   ],
   "source": [
    "# 3. Visualizations:\n",
    "# Is there a specific price range where most products fall? Plot a histogram to visualize the distribution of product prices. \n",
    "sns.histplot(df[\"price\"], kde=True, bins=30, color=\"darkblue\")\n",
    "plt.show()"
   ]
  },
  {
   "cell_type": "code",
   "execution_count": 66,
   "id": "8a9240ec-2a42-4754-86a7-a8724fb90d22",
   "metadata": {},
   "outputs": [
    {
     "data": {
      "text/plain": [
       "100000.0"
      ]
     },
     "execution_count": 66,
     "metadata": {},
     "output_type": "execute_result"
    }
   ],
   "source": [
    "# If its hard to read these diagrams, think why this is, and explain how it could be solved.\n",
    "# Are there products that are priced significantly higher than the rest? \n",
    "# Yes. The two max. priced products are drastically higher priced then the other products.\n",
    "df[\"price\"].max()"
   ]
  },
  {
   "cell_type": "code",
   "execution_count": 64,
   "id": "46ea959e-a44c-471e-bfe4-c0080777770f",
   "metadata": {},
   "outputs": [
    {
     "data": {
      "image/png": "[encoded data removed]",
      "text/plain": [
       "<Figure size 640x480 with 1 Axes>"
      ]
     },
     "metadata": {},
     "output_type": "display_data"
    }
   ],
   "source": [
    "# Use a box plot to showcase the spread and potential outliers in product pricing.\n",
    "sns.boxplot(data = df['price'], color=\"darkblue\")\n",
    "plt.show()"
   ]
  },
  {
   "cell_type": "code",
   "execution_count": 70,
   "id": "37661c5f-13f4-4c04-9a35-29e996614f30",
   "metadata": {},
   "outputs": [
    {
     "data": {
      "text/plain": [
       "2.152836472966065"
      ]
     },
     "execution_count": 70,
     "metadata": {},
     "output_type": "execute_result"
    }
   ],
   "source": [
    "# Part 3: Unpacking Product Ratings\n",
    "# Business Question: How do customers rate products on Amazon UK, and are there any patterns or tendencies in the ratings?\n",
    "# 1. Measures of Centrality: Calculate the mean, median, and mode for the `rating` of products.\n",
    "df[\"stars\"].mean()"
   ]
  },
  {
   "cell_type": "code",
   "execution_count": 72,
   "id": "1a6a6621-b7e8-432e-999d-e4af50053941",
   "metadata": {},
   "outputs": [
    {
     "data": {
      "text/plain": [
       "0.0"
      ]
     },
     "execution_count": 72,
     "metadata": {},
     "output_type": "execute_result"
    }
   ],
   "source": [
    "df[\"stars\"].median()"
   ]
  },
  {
   "cell_type": "code",
   "execution_count": 74,
   "id": "988dd8a8-1c74-40f1-926e-0ac94c55fa9c",
   "metadata": {},
   "outputs": [
    {
     "data": {
      "text/plain": [
       "0    0.0\n",
       "Name: stars, dtype: float64"
      ]
     },
     "execution_count": 74,
     "metadata": {},
     "output_type": "execute_result"
    }
   ],
   "source": [
    "df[\"stars\"].mode()"
   ]
  },
  {
   "cell_type": "code",
   "execution_count": 76,
   "id": "3a595f2a-5f51-4fba-9a7f-e26cb77175a3",
   "metadata": {},
   "outputs": [],
   "source": [
    "# How do customers generally rate products? Is there a common trend?\n",
    "# Many products do not have a rating !\n",
    "# Ratings range from 0 - 5 stars."
   ]
  },
  {
   "cell_type": "code",
   "execution_count": 88,
   "id": "6f88424e-cec6-4f2d-8133-24fccc44bf07",
   "metadata": {},
   "outputs": [
    {
     "data": {
      "text/plain": [
       "4.81743402976196"
      ]
     },
     "execution_count": 88,
     "metadata": {},
     "output_type": "execute_result"
    }
   ],
   "source": [
    "# 2. Measures of Dispersion:\n",
    "# Determine the variance, standard deviation, and interquartile range for product `rating`.\n",
    "df[\"stars\"].var()"
   ]
  },
  {
   "cell_type": "code",
   "execution_count": 80,
   "id": "2d6ba266-9560-4ff2-b85e-bfbc5405ca1a",
   "metadata": {},
   "outputs": [
    {
     "data": {
      "text/plain": [
       "2.1948653785054697"
      ]
     },
     "execution_count": 80,
     "metadata": {},
     "output_type": "execute_result"
    }
   ],
   "source": [
    "df[\"stars\"].std()"
   ]
  },
  {
   "cell_type": "code",
   "execution_count": 82,
   "id": "882eab72-fb81-44eb-b6c3-ffb44ba2519a",
   "metadata": {},
   "outputs": [
    {
     "data": {
      "text/plain": [
       "5.0"
      ]
     },
     "execution_count": 82,
     "metadata": {},
     "output_type": "execute_result"
    }
   ],
   "source": [
    "rating_range = df[\"stars\"].max() - df[\"stars\"].min()\n",
    "rating_range"
   ]
  },
  {
   "cell_type": "code",
   "execution_count": 84,
   "id": "e94d498f-606d-4fa0-8ceb-c9586cee3b5e",
   "metadata": {},
   "outputs": [
    {
     "data": {
      "text/plain": [
       "0.25    0.0\n",
       "0.50    0.0\n",
       "0.75    4.4\n",
       "Name: stars, dtype: float64"
      ]
     },
     "execution_count": 84,
     "metadata": {},
     "output_type": "execute_result"
    }
   ],
   "source": [
    "quantiles_rating = df[\"stars\"].quantile([0.25, 0.5, 0.75])\n",
    "quantiles_rating"
   ]
  },
  {
   "cell_type": "code",
   "execution_count": 92,
   "id": "e62bb8c1-612d-4506-94c0-e9b405e82aaa",
   "metadata": {},
   "outputs": [],
   "source": [
    "# Are the ratings consistent, or is there a wide variation in customer feedback?\n",
    "# Ratings are not consistent! Most products have not been rated !\n",
    "# The values for ratings are negatively skewed !"
   ]
  },
  {
   "cell_type": "code",
   "execution_count": 94,
   "id": "07340a6d-f209-4567-8b8f-9f27d5dd9d6e",
   "metadata": {},
   "outputs": [
    {
     "data": {
      "text/plain": [
       "(0.08120735761080985, -1.9260061280432985)"
      ]
     },
     "execution_count": 94,
     "metadata": {},
     "output_type": "execute_result"
    }
   ],
   "source": [
    "# 3. Shape of the Distribution:\n",
    "# Calculate the skewness and kurtosis for the `rating` column. \n",
    "skewness_rating = df['stars'].skew()\n",
    "kurtosis_rating = df['stars'].kurtosis()\n",
    "\n",
    "skewness_rating, kurtosis_rating"
   ]
  },
  {
   "cell_type": "code",
   "execution_count": 96,
   "id": "70c8e6da-f196-4035-9759-fe81a7b6059e",
   "metadata": {},
   "outputs": [],
   "source": [
    "# Are the ratings normally distributed, or do they lean towards higher or lower values?\n",
    "# The values for ratings lean towards lower values, i.e. they are negatively skewed (skewness < 1)."
   ]
  },
  {
   "cell_type": "code",
   "execution_count": 98,
   "id": "fe46f7f2-35c3-460c-88aa-0024553d4c00",
   "metadata": {},
   "outputs": [
    {
     "data": {
      "image/png": "[encoded data removed]",
      "text/plain": [
       "<Figure size 640x480 with 1 Axes>"
      ]
     },
     "metadata": {},
     "output_type": "display_data"
    }
   ],
   "source": [
    "# 4. Visualizations: Plot a histogram to visualize the distribution of product ratings. \n",
    "sns.histplot(df[\"stars\"], kde=True, bins=30, color=\"darkblue\")\n",
    "plt.show()"
   ]
  },
  {
   "cell_type": "code",
   "execution_count": 130,
   "id": "253c1576-97b6-4bde-9201-ccb7a55acdcc",
   "metadata": {},
   "outputs": [],
   "source": [
    "# Is there a specific rating that is more common?\n",
    "# Most common is \"no\" rating at all !"
   ]
  },
  {
   "cell_type": "code",
   "execution_count": 112,
   "id": "033d8cac-82f8-4b97-a4e8-31176df06426",
   "metadata": {},
   "outputs": [
    {
     "data": {
      "text/html": [
       "<div>\n",
       "<style scoped>\n",
       "    .dataframe tbody tr th:only-of-type {\n",
       "        vertical-align: middle;\n",
       "    }\n",
       "\n",
       "    .dataframe tbody tr th {\n",
       "        vertical-align: top;\n",
       "    }\n",
       "\n",
       "    .dataframe thead th {\n",
       "        text-align: right;\n",
       "    }\n",
       "</style>\n",
       "<table border=\"1\" class=\"dataframe\">\n",
       "  <thead>\n",
       "    <tr style=\"text-align: right;\">\n",
       "      <th></th>\n",
       "      <th>uid</th>\n",
       "      <th>asin</th>\n",
       "      <th>title</th>\n",
       "      <th>stars</th>\n",
       "      <th>reviews</th>\n",
       "      <th>price</th>\n",
       "      <th>isBestSeller</th>\n",
       "      <th>boughtInLastMonth</th>\n",
       "      <th>category</th>\n",
       "    </tr>\n",
       "  </thead>\n",
       "  <tbody>\n",
       "    <tr>\n",
       "      <th>0</th>\n",
       "      <td>1</td>\n",
       "      <td>B09B96TG33</td>\n",
       "      <td>Echo Dot (5th generation, 2022 release) | Big ...</td>\n",
       "      <td>4.7</td>\n",
       "      <td>15308</td>\n",
       "      <td>21.99</td>\n",
       "      <td>False</td>\n",
       "      <td>0</td>\n",
       "      <td>Hi-Fi Speakers</td>\n",
       "    </tr>\n",
       "    <tr>\n",
       "      <th>1</th>\n",
       "      <td>2</td>\n",
       "      <td>B01HTH3C8S</td>\n",
       "      <td>Anker Soundcore mini, Super-Portable Bluetooth...</td>\n",
       "      <td>4.7</td>\n",
       "      <td>98099</td>\n",
       "      <td>23.99</td>\n",
       "      <td>True</td>\n",
       "      <td>0</td>\n",
       "      <td>Hi-Fi Speakers</td>\n",
       "    </tr>\n",
       "    <tr>\n",
       "      <th>2</th>\n",
       "      <td>3</td>\n",
       "      <td>B09B8YWXDF</td>\n",
       "      <td>Echo Dot (5th generation, 2022 release) | Big ...</td>\n",
       "      <td>4.7</td>\n",
       "      <td>15308</td>\n",
       "      <td>21.99</td>\n",
       "      <td>False</td>\n",
       "      <td>0</td>\n",
       "      <td>Hi-Fi Speakers</td>\n",
       "    </tr>\n",
       "    <tr>\n",
       "      <th>3</th>\n",
       "      <td>4</td>\n",
       "      <td>B09B8T5VGV</td>\n",
       "      <td>Echo Dot with clock (5th generation, 2022 rele...</td>\n",
       "      <td>4.7</td>\n",
       "      <td>7205</td>\n",
       "      <td>31.99</td>\n",
       "      <td>False</td>\n",
       "      <td>0</td>\n",
       "      <td>Hi-Fi Speakers</td>\n",
       "    </tr>\n",
       "    <tr>\n",
       "      <th>4</th>\n",
       "      <td>5</td>\n",
       "      <td>B09WX6QD65</td>\n",
       "      <td>Introducing Echo Pop | Full sound compact Wi-F...</td>\n",
       "      <td>4.6</td>\n",
       "      <td>1881</td>\n",
       "      <td>17.99</td>\n",
       "      <td>False</td>\n",
       "      <td>0</td>\n",
       "      <td>Hi-Fi Speakers</td>\n",
       "    </tr>\n",
       "    <tr>\n",
       "      <th>...</th>\n",
       "      <td>...</td>\n",
       "      <td>...</td>\n",
       "      <td>...</td>\n",
       "      <td>...</td>\n",
       "      <td>...</td>\n",
       "      <td>...</td>\n",
       "      <td>...</td>\n",
       "      <td>...</td>\n",
       "      <td>...</td>\n",
       "    </tr>\n",
       "    <tr>\n",
       "      <th>2443646</th>\n",
       "      <td>2828589</td>\n",
       "      <td>B0CHSD7P2Q</td>\n",
       "      <td>Motorbike Armour, Motorbike Clothing, Cycling ...</td>\n",
       "      <td>0.0</td>\n",
       "      <td>0</td>\n",
       "      <td>22.34</td>\n",
       "      <td>False</td>\n",
       "      <td>0</td>\n",
       "      <td>Motorbike Clothing</td>\n",
       "    </tr>\n",
       "    <tr>\n",
       "      <th>2443647</th>\n",
       "      <td>2828590</td>\n",
       "      <td>B0B7B8FNBQ</td>\n",
       "      <td>PROFIRST Waterproof Motorcycle 2 Piece Ladies ...</td>\n",
       "      <td>0.0</td>\n",
       "      <td>0</td>\n",
       "      <td>97.99</td>\n",
       "      <td>False</td>\n",
       "      <td>0</td>\n",
       "      <td>Motorbike Clothing</td>\n",
       "    </tr>\n",
       "    <tr>\n",
       "      <th>2443648</th>\n",
       "      <td>2828591</td>\n",
       "      <td>B0BD5FL5FB</td>\n",
       "      <td>Men’s Motorcycle Motorbike Biker Trousers Kevl...</td>\n",
       "      <td>0.0</td>\n",
       "      <td>0</td>\n",
       "      <td>52.99</td>\n",
       "      <td>False</td>\n",
       "      <td>0</td>\n",
       "      <td>Motorbike Clothing</td>\n",
       "    </tr>\n",
       "    <tr>\n",
       "      <th>2443649</th>\n",
       "      <td>2828592</td>\n",
       "      <td>B008OYLL4I</td>\n",
       "      <td>Texpeed Mens Motorcycle Motorbike Biker Trouse...</td>\n",
       "      <td>4.3</td>\n",
       "      <td>404</td>\n",
       "      <td>79.99</td>\n",
       "      <td>False</td>\n",
       "      <td>0</td>\n",
       "      <td>Motorbike Clothing</td>\n",
       "    </tr>\n",
       "    <tr>\n",
       "      <th>2443650</th>\n",
       "      <td>2828593</td>\n",
       "      <td>B08P3W9B3T</td>\n",
       "      <td>RIDEX CJ223 Motorcycle Motorbike Jacket Armour...</td>\n",
       "      <td>4.5</td>\n",
       "      <td>34</td>\n",
       "      <td>53.99</td>\n",
       "      <td>False</td>\n",
       "      <td>0</td>\n",
       "      <td>Motorbike Clothing</td>\n",
       "    </tr>\n",
       "  </tbody>\n",
       "</table>\n",
       "<p>2443651 rows × 9 columns</p>\n",
       "</div>"
      ],
      "text/plain": [
       "             uid        asin  \\\n",
       "0              1  B09B96TG33   \n",
       "1              2  B01HTH3C8S   \n",
       "2              3  B09B8YWXDF   \n",
       "3              4  B09B8T5VGV   \n",
       "4              5  B09WX6QD65   \n",
       "...          ...         ...   \n",
       "2443646  2828589  B0CHSD7P2Q   \n",
       "2443647  2828590  B0B7B8FNBQ   \n",
       "2443648  2828591  B0BD5FL5FB   \n",
       "2443649  2828592  B008OYLL4I   \n",
       "2443650  2828593  B08P3W9B3T   \n",
       "\n",
       "                                                     title  stars  reviews  \\\n",
       "0        Echo Dot (5th generation, 2022 release) | Big ...    4.7    15308   \n",
       "1        Anker Soundcore mini, Super-Portable Bluetooth...    4.7    98099   \n",
       "2        Echo Dot (5th generation, 2022 release) | Big ...    4.7    15308   \n",
       "3        Echo Dot with clock (5th generation, 2022 rele...    4.7     7205   \n",
       "4        Introducing Echo Pop | Full sound compact Wi-F...    4.6     1881   \n",
       "...                                                    ...    ...      ...   \n",
       "2443646  Motorbike Armour, Motorbike Clothing, Cycling ...    0.0        0   \n",
       "2443647  PROFIRST Waterproof Motorcycle 2 Piece Ladies ...    0.0        0   \n",
       "2443648  Men’s Motorcycle Motorbike Biker Trousers Kevl...    0.0        0   \n",
       "2443649  Texpeed Mens Motorcycle Motorbike Biker Trouse...    4.3      404   \n",
       "2443650  RIDEX CJ223 Motorcycle Motorbike Jacket Armour...    4.5       34   \n",
       "\n",
       "         price  isBestSeller  boughtInLastMonth            category  \n",
       "0        21.99         False                  0      Hi-Fi Speakers  \n",
       "1        23.99          True                  0      Hi-Fi Speakers  \n",
       "2        21.99         False                  0      Hi-Fi Speakers  \n",
       "3        31.99         False                  0      Hi-Fi Speakers  \n",
       "4        17.99         False                  0      Hi-Fi Speakers  \n",
       "...        ...           ...                ...                 ...  \n",
       "2443646  22.34         False                  0  Motorbike Clothing  \n",
       "2443647  97.99         False                  0  Motorbike Clothing  \n",
       "2443648  52.99         False                  0  Motorbike Clothing  \n",
       "2443649  79.99         False                  0  Motorbike Clothing  \n",
       "2443650  53.99         False                  0  Motorbike Clothing  \n",
       "\n",
       "[2443651 rows x 9 columns]"
      ]
     },
     "execution_count": 112,
     "metadata": {},
     "output_type": "execute_result"
    }
   ],
   "source": [
    "df_rating = df.dropna(subset=['stars'])\n",
    "df_rating"
   ]
  },
  {
   "cell_type": "code",
   "execution_count": 124,
   "id": "9bfcd53b-9420-407a-a1df-aed696a3b782",
   "metadata": {},
   "outputs": [
    {
     "data": {
      "text/html": [
       "<div>\n",
       "<style scoped>\n",
       "    .dataframe tbody tr th:only-of-type {\n",
       "        vertical-align: middle;\n",
       "    }\n",
       "\n",
       "    .dataframe tbody tr th {\n",
       "        vertical-align: top;\n",
       "    }\n",
       "\n",
       "    .dataframe thead th {\n",
       "        text-align: right;\n",
       "    }\n",
       "</style>\n",
       "<table border=\"1\" class=\"dataframe\">\n",
       "  <thead>\n",
       "    <tr style=\"text-align: right;\">\n",
       "      <th></th>\n",
       "      <th>uid</th>\n",
       "      <th>asin</th>\n",
       "      <th>title</th>\n",
       "      <th>stars</th>\n",
       "      <th>reviews</th>\n",
       "      <th>price</th>\n",
       "      <th>isBestSeller</th>\n",
       "      <th>boughtInLastMonth</th>\n",
       "      <th>category</th>\n",
       "    </tr>\n",
       "  </thead>\n",
       "  <tbody>\n",
       "    <tr>\n",
       "      <th>0</th>\n",
       "      <td>1</td>\n",
       "      <td>B09B96TG33</td>\n",
       "      <td>Echo Dot (5th generation, 2022 release) | Big ...</td>\n",
       "      <td>4.7</td>\n",
       "      <td>15308</td>\n",
       "      <td>21.99</td>\n",
       "      <td>False</td>\n",
       "      <td>0</td>\n",
       "      <td>Hi-Fi Speakers</td>\n",
       "    </tr>\n",
       "    <tr>\n",
       "      <th>1</th>\n",
       "      <td>2</td>\n",
       "      <td>B01HTH3C8S</td>\n",
       "      <td>Anker Soundcore mini, Super-Portable Bluetooth...</td>\n",
       "      <td>4.7</td>\n",
       "      <td>98099</td>\n",
       "      <td>23.99</td>\n",
       "      <td>True</td>\n",
       "      <td>0</td>\n",
       "      <td>Hi-Fi Speakers</td>\n",
       "    </tr>\n",
       "    <tr>\n",
       "      <th>2</th>\n",
       "      <td>3</td>\n",
       "      <td>B09B8YWXDF</td>\n",
       "      <td>Echo Dot (5th generation, 2022 release) | Big ...</td>\n",
       "      <td>4.7</td>\n",
       "      <td>15308</td>\n",
       "      <td>21.99</td>\n",
       "      <td>False</td>\n",
       "      <td>0</td>\n",
       "      <td>Hi-Fi Speakers</td>\n",
       "    </tr>\n",
       "    <tr>\n",
       "      <th>3</th>\n",
       "      <td>4</td>\n",
       "      <td>B09B8T5VGV</td>\n",
       "      <td>Echo Dot with clock (5th generation, 2022 rele...</td>\n",
       "      <td>4.7</td>\n",
       "      <td>7205</td>\n",
       "      <td>31.99</td>\n",
       "      <td>False</td>\n",
       "      <td>0</td>\n",
       "      <td>Hi-Fi Speakers</td>\n",
       "    </tr>\n",
       "    <tr>\n",
       "      <th>4</th>\n",
       "      <td>5</td>\n",
       "      <td>B09WX6QD65</td>\n",
       "      <td>Introducing Echo Pop | Full sound compact Wi-F...</td>\n",
       "      <td>4.6</td>\n",
       "      <td>1881</td>\n",
       "      <td>17.99</td>\n",
       "      <td>False</td>\n",
       "      <td>0</td>\n",
       "      <td>Hi-Fi Speakers</td>\n",
       "    </tr>\n",
       "    <tr>\n",
       "      <th>...</th>\n",
       "      <td>...</td>\n",
       "      <td>...</td>\n",
       "      <td>...</td>\n",
       "      <td>...</td>\n",
       "      <td>...</td>\n",
       "      <td>...</td>\n",
       "      <td>...</td>\n",
       "      <td>...</td>\n",
       "      <td>...</td>\n",
       "    </tr>\n",
       "    <tr>\n",
       "      <th>2443642</th>\n",
       "      <td>2828585</td>\n",
       "      <td>B07DCFQMQL</td>\n",
       "      <td>Speed MaxX BODY ARMOUR CE MOTORBIKE/MOTORCYCLE...</td>\n",
       "      <td>3.6</td>\n",
       "      <td>66</td>\n",
       "      <td>49.99</td>\n",
       "      <td>False</td>\n",
       "      <td>0</td>\n",
       "      <td>Motorbike Clothing</td>\n",
       "    </tr>\n",
       "    <tr>\n",
       "      <th>2443643</th>\n",
       "      <td>2828586</td>\n",
       "      <td>B07JM5VQFX</td>\n",
       "      <td>Motorcycle Clothing Suit - Motorbike Suit With...</td>\n",
       "      <td>4.1</td>\n",
       "      <td>5</td>\n",
       "      <td>158.99</td>\n",
       "      <td>False</td>\n",
       "      <td>0</td>\n",
       "      <td>Motorbike Clothing</td>\n",
       "    </tr>\n",
       "    <tr>\n",
       "      <th>2443644</th>\n",
       "      <td>2828587</td>\n",
       "      <td>B07X98JLFF</td>\n",
       "      <td>GREAT BIKERS GEAR - Bobber Cafe Brat Style Lea...</td>\n",
       "      <td>3.6</td>\n",
       "      <td>12</td>\n",
       "      <td>14.99</td>\n",
       "      <td>False</td>\n",
       "      <td>0</td>\n",
       "      <td>Motorbike Clothing</td>\n",
       "    </tr>\n",
       "    <tr>\n",
       "      <th>2443649</th>\n",
       "      <td>2828592</td>\n",
       "      <td>B008OYLL4I</td>\n",
       "      <td>Texpeed Mens Motorcycle Motorbike Biker Trouse...</td>\n",
       "      <td>4.3</td>\n",
       "      <td>404</td>\n",
       "      <td>79.99</td>\n",
       "      <td>False</td>\n",
       "      <td>0</td>\n",
       "      <td>Motorbike Clothing</td>\n",
       "    </tr>\n",
       "    <tr>\n",
       "      <th>2443650</th>\n",
       "      <td>2828593</td>\n",
       "      <td>B08P3W9B3T</td>\n",
       "      <td>RIDEX CJ223 Motorcycle Motorbike Jacket Armour...</td>\n",
       "      <td>4.5</td>\n",
       "      <td>34</td>\n",
       "      <td>53.99</td>\n",
       "      <td>False</td>\n",
       "      <td>0</td>\n",
       "      <td>Motorbike Clothing</td>\n",
       "    </tr>\n",
       "  </tbody>\n",
       "</table>\n",
       "<p>1218010 rows × 9 columns</p>\n",
       "</div>"
      ],
      "text/plain": [
       "             uid        asin  \\\n",
       "0              1  B09B96TG33   \n",
       "1              2  B01HTH3C8S   \n",
       "2              3  B09B8YWXDF   \n",
       "3              4  B09B8T5VGV   \n",
       "4              5  B09WX6QD65   \n",
       "...          ...         ...   \n",
       "2443642  2828585  B07DCFQMQL   \n",
       "2443643  2828586  B07JM5VQFX   \n",
       "2443644  2828587  B07X98JLFF   \n",
       "2443649  2828592  B008OYLL4I   \n",
       "2443650  2828593  B08P3W9B3T   \n",
       "\n",
       "                                                     title  stars  reviews  \\\n",
       "0        Echo Dot (5th generation, 2022 release) | Big ...    4.7    15308   \n",
       "1        Anker Soundcore mini, Super-Portable Bluetooth...    4.7    98099   \n",
       "2        Echo Dot (5th generation, 2022 release) | Big ...    4.7    15308   \n",
       "3        Echo Dot with clock (5th generation, 2022 rele...    4.7     7205   \n",
       "4        Introducing Echo Pop | Full sound compact Wi-F...    4.6     1881   \n",
       "...                                                    ...    ...      ...   \n",
       "2443642  Speed MaxX BODY ARMOUR CE MOTORBIKE/MOTORCYCLE...    3.6       66   \n",
       "2443643  Motorcycle Clothing Suit - Motorbike Suit With...    4.1        5   \n",
       "2443644  GREAT BIKERS GEAR - Bobber Cafe Brat Style Lea...    3.6       12   \n",
       "2443649  Texpeed Mens Motorcycle Motorbike Biker Trouse...    4.3      404   \n",
       "2443650  RIDEX CJ223 Motorcycle Motorbike Jacket Armour...    4.5       34   \n",
       "\n",
       "          price  isBestSeller  boughtInLastMonth            category  \n",
       "0         21.99         False                  0      Hi-Fi Speakers  \n",
       "1         23.99          True                  0      Hi-Fi Speakers  \n",
       "2         21.99         False                  0      Hi-Fi Speakers  \n",
       "3         31.99         False                  0      Hi-Fi Speakers  \n",
       "4         17.99         False                  0      Hi-Fi Speakers  \n",
       "...         ...           ...                ...                 ...  \n",
       "2443642   49.99         False                  0  Motorbike Clothing  \n",
       "2443643  158.99         False                  0  Motorbike Clothing  \n",
       "2443644   14.99         False                  0  Motorbike Clothing  \n",
       "2443649   79.99         False                  0  Motorbike Clothing  \n",
       "2443650   53.99         False                  0  Motorbike Clothing  \n",
       "\n",
       "[1218010 rows x 9 columns]"
      ]
     },
     "execution_count": 124,
     "metadata": {},
     "output_type": "execute_result"
    }
   ],
   "source": [
    "df_rating_no_zero = df[df['stars'] != 0.0]\n",
    "df_rating_no_zero"
   ]
  },
  {
   "cell_type": "code",
   "execution_count": 126,
   "id": "65c2483b-5d4e-464d-bd3a-b66a6a4e37be",
   "metadata": {},
   "outputs": [
    {
     "data": {
      "text/plain": [
       "4.31916076222691"
      ]
     },
     "execution_count": 126,
     "metadata": {},
     "output_type": "execute_result"
    }
   ],
   "source": [
    "# Among the rated products, the mean is\n",
    "df_rating_no_zero[\"stars\"].mean()"
   ]
  },
  {
   "cell_type": "code",
   "execution_count": 128,
   "id": "7e275c23-e7bf-4497-9a7e-9e33cb3643cf",
   "metadata": {},
   "outputs": [
    {
     "data": {
      "text/plain": [
       "4.4"
      ]
     },
     "execution_count": 128,
     "metadata": {},
     "output_type": "execute_result"
    }
   ],
   "source": [
    "# Among the rated products, the median is\n",
    "df_rating_no_zero[\"stars\"].median()"
   ]
  },
  {
   "cell_type": "code",
   "execution_count": null,
   "id": "bf8f0123-b0f4-4ede-8850-f3706fb9efbf",
   "metadata": {},
   "outputs": [],
   "source": []
  }
 ],
 "metadata": {
  "kernelspec": {
   "display_name": "Python [conda env:base] *",
   "language": "python",
   "name": "conda-base-py"
  },
  "language_info": {
   "codemirror_mode": {
    "name": "ipython",
    "version": 3
   },
   "file_extension": ".py",
   "mimetype": "text/x-python",
   "name": "python",
   "nbconvert_exporter": "python",
   "pygments_lexer": "ipython3",
   "version": "3.12.7"
  }
 },
 "nbformat": 4,
 "nbformat_minor": 5
}
